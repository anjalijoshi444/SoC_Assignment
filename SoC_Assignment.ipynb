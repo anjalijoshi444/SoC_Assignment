{
 "cells": [
  {
   "cell_type": "code",
   "execution_count": 4,
   "id": "e30ee55e-04e0-45b6-aa3f-20e9f6ce0fd0",
   "metadata": {},
   "outputs": [],
   "source": [
    "import numpy as np\n",
    "import matplotlib.pyplot as plt\n",
    "import random\n",
    "import pandas as pd\n",
    "from tensorflow.keras.models import Sequential\n",
    "from tensorflow.keras.layers import  Conv2D,MaxPooling2D, Dense,Flatten,Dropout,Activation"
   ]
  },
  {
   "cell_type": "code",
   "execution_count": 5,
   "id": "cb2f73f8-3e3f-437b-81db-b350fa203188",
   "metadata": {},
   "outputs": [],
   "source": [
    "train=np.loadtxt('mnist_train.csv',delimiter=',')\n",
    "test=np.loadtxt('mnist_test.csv',delimiter=',')"
   ]
  },
  {
   "cell_type": "code",
   "execution_count": 6,
   "id": "a86a6a89-5a9a-441b-a503-18b9c1fe4407",
   "metadata": {},
   "outputs": [
    {
     "name": "stdout",
     "output_type": "stream",
     "text": [
      "Train Shape: (60000, 785)\n",
      "Test Shape: (10000, 785)\n"
     ]
    }
   ],
   "source": [
    "print('Train Shape:',train.shape)\n",
    "print('Test Shape:',test.shape)"
   ]
  },
  {
   "cell_type": "code",
   "execution_count": 7,
   "id": "fb0faa3a-18c4-4045-9988-bdcd8f004fac",
   "metadata": {},
   "outputs": [
    {
     "name": "stdout",
     "output_type": "stream",
     "text": [
      "(60000, 28, 28, 1)\n",
      "60000\n"
     ]
    }
   ],
   "source": [
    "labels=train[:,0]\n",
    "image_data=train[:,1:]\n",
    "image_data=image_data.reshape(len(train),28,28,1)\n",
    "image_data=image_data/255.0\n",
    "\n",
    "y_test=test[:,0]\n",
    "x_test=test[:,1:]\n",
    "x_test=x_test.reshape(len(test),28,28,1)\n",
    "x_test=x_test/255.0\n",
    "\n",
    "print(image_data.shape)\n",
    "print(len(image_data))"
   ]
  },
  {
   "cell_type": "code",
   "execution_count": 8,
   "id": "3b2c8575-01a3-42b6-8005-b36e0c0c6332",
   "metadata": {},
   "outputs": [
    {
     "data": {
      "image/png": "[encoded data removed]",
      "text/plain": [
       "<Figure size 640x480 with 1 Axes>"
      ]
     },
     "metadata": {},
     "output_type": "display_data"
    }
   ],
   "source": [
    "index=random.randrange(0,len(image_data))\n",
    "plt.imshow(image_data[index],cmap='gray')\n",
    "plt.show()"
   ]
  },
  {
   "cell_type": "code",
   "execution_count": 10,
   "id": "501688d9-8178-42c3-be40-96a8f29b4d71",
   "metadata": {},
   "outputs": [],
   "source": [
    "model=Sequential()\n",
    "model.add(Conv2D(64,(3,3),input_shape=(28,28,1)))\n",
    "model.add(Activation(\"relu\"))\n",
    "model.add(MaxPooling2D((2,2)))\n",
    "\n",
    "model.add(Conv2D(64,(3,3)))\n",
    "model.add(Activation(\"relu\"))\n",
    "model.add(MaxPooling2D((2,2)))\n",
    "\n",
    "model.add(Conv2D(64,(3,3)))\n",
    "model.add(Activation(\"relu\"))\n",
    "model.add(MaxPooling2D((2,2)))\n",
    "\n",
    "model.add(Flatten())\n",
    "model.add(Dense(64))\n",
    "model.add(Activation(\"relu\"))\n",
    "model.add(Dense(10))\n",
    "model.add(Activation(\"softmax\"))"
   ]
  },
  {
   "cell_type": "code",
   "execution_count": 11,
   "id": "2e9c08a3-3b2c-478f-b017-4d1a5da4c7fe",
   "metadata": {},
   "outputs": [],
   "source": [
    "model.compile(loss='sparse_categorical_crossentropy',optimizer='adam',metrics=['accuracy'] )"
   ]
  },
  {
   "cell_type": "code",
   "execution_count": 13,
   "id": "62a157a1-9798-4aad-ab69-7d2f76c2235f",
   "metadata": {},
   "outputs": [
    {
     "name": "stdout",
     "output_type": "stream",
     "text": [
      "Epoch 1/5\n",
      "\u001b[1m1313/1313\u001b[0m \u001b[32m━━━━━━━━━━━━━━━━━━━━\u001b[0m\u001b[37m\u001b[0m \u001b[1m56s\u001b[0m 40ms/step - accuracy: 0.8167 - loss: 0.5596 - val_accuracy: 0.9658 - val_loss: 0.1108\n",
      "Epoch 2/5\n",
      "\u001b[1m1313/1313\u001b[0m \u001b[32m━━━━━━━━━━━━━━━━━━━━\u001b[0m\u001b[37m\u001b[0m \u001b[1m54s\u001b[0m 41ms/step - accuracy: 0.9731 - loss: 0.0879 - val_accuracy: 0.9767 - val_loss: 0.0738\n",
      "Epoch 3/5\n",
      "\u001b[1m1313/1313\u001b[0m \u001b[32m━━━━━━━━━━━━━━━━━━━━\u001b[0m\u001b[37m\u001b[0m \u001b[1m57s\u001b[0m 44ms/step - accuracy: 0.9821 - loss: 0.0571 - val_accuracy: 0.9831 - val_loss: 0.0563\n",
      "Epoch 4/5\n",
      "\u001b[1m1313/1313\u001b[0m \u001b[32m━━━━━━━━━━━━━━━━━━━━\u001b[0m\u001b[37m\u001b[0m \u001b[1m63s\u001b[0m 48ms/step - accuracy: 0.9862 - loss: 0.0436 - val_accuracy: 0.9824 - val_loss: 0.0566\n",
      "Epoch 5/5\n",
      "\u001b[1m1313/1313\u001b[0m \u001b[32m━━━━━━━━━━━━━━━━━━━━\u001b[0m\u001b[37m\u001b[0m \u001b[1m50s\u001b[0m 38ms/step - accuracy: 0.9882 - loss: 0.0357 - val_accuracy: 0.9770 - val_loss: 0.0805\n"
     ]
    },
    {
     "data": {
      "text/plain": [
       "<keras.src.callbacks.history.History at 0x1dcd3f4f440>"
      ]
     },
     "execution_count": 13,
     "metadata": {},
     "output_type": "execute_result"
    }
   ],
   "source": [
    "model.fit(image_data,labels,epochs=5,validation_split=0.3)"
   ]
  },
  {
   "cell_type": "code",
   "execution_count": 14,
   "id": "1d40ed7c-cef7-424a-a260-77c69200c0b5",
   "metadata": {},
   "outputs": [
    {
     "name": "stdout",
     "output_type": "stream",
     "text": [
      "\u001b[1m313/313\u001b[0m \u001b[32m━━━━━━━━━━━━━━━━━━━━\u001b[0m\u001b[37m\u001b[0m \u001b[1m3s\u001b[0m 9ms/step - accuracy: 0.9746 - loss: 0.0822\n"
     ]
    },
    {
     "data": {
      "text/plain": [
       "[0.07226324826478958, 0.9776999950408936]"
      ]
     },
     "execution_count": 14,
     "metadata": {},
     "output_type": "execute_result"
    }
   ],
   "source": [
    "model.evaluate(x_test,y_test)"
   ]
  },
  {
   "cell_type": "code",
   "execution_count": 24,
   "id": "fe7d581d-6064-46e2-86c4-17440ff7d798",
   "metadata": {},
   "outputs": [
    {
     "name": "stdout",
     "output_type": "stream",
     "text": [
      "\u001b[1m313/313\u001b[0m \u001b[32m━━━━━━━━━━━━━━━━━━━━\u001b[0m\u001b[37m\u001b[0m \u001b[1m3s\u001b[0m 8ms/step\n"
     ]
    },
    {
     "data": {
      "text/plain": [
       "array([[8.7465341e-11, 1.3226112e-07, 1.1846013e-05, ..., 9.9997330e-01,\n",
       "        3.6263075e-09, 1.0629762e-05],\n",
       "       [5.0788240e-06, 8.1562639e-11, 9.9999487e-01, ..., 2.5451125e-10,\n",
       "        4.4608881e-09, 1.4550453e-11],\n",
       "       [1.3449705e-05, 9.9930251e-01, 1.3609733e-04, ..., 3.1907839e-05,\n",
       "        2.8459032e-04, 1.7321439e-05],\n",
       "       ...,\n",
       "       [1.4801775e-16, 1.8422978e-11, 2.0514159e-12, ..., 3.0287192e-10,\n",
       "        2.2849382e-09, 5.1555386e-08],\n",
       "       [3.8988383e-06, 9.0626964e-11, 2.7211293e-08, ..., 1.9213862e-09,\n",
       "        1.3997400e-04, 2.0691747e-04],\n",
       "       [4.3768664e-03, 5.0201319e-09, 2.2478455e-03, ..., 3.0582736e-09,\n",
       "        1.3003408e-03, 1.6058302e-05]], dtype=float32)"
      ]
     },
     "execution_count": 24,
     "metadata": {},
     "output_type": "execute_result"
    }
   ],
   "source": [
    "y_pred=model.predict(x_test)\n",
    "y_pred"
   ]
  },
  {
   "cell_type": "code",
   "execution_count": 56,
   "id": "9bfa9571-a84d-4f85-ad9e-5f73a8e15cde",
   "metadata": {},
   "outputs": [
    {
     "data": {
      "image/png": "[encoded data removed]",
      "text/plain": [
       "<Figure size 640x480 with 1 Axes>"
      ]
     },
     "metadata": {},
     "output_type": "display_data"
    },
    {
     "name": "stdout",
     "output_type": "stream",
     "text": [
      "Our model says it is: [8]\n"
     ]
    }
   ],
   "source": [
    "index=random.randrange(0,len(x_test))\n",
    "plt.imshow(x_test[index],cmap='gray')\n",
    "plt.show()\n",
    "\n",
    "y_classes=[np.argmax(y_pred[index])]\n",
    "print('Our model says it is:',y_classes)"
   ]
  },
  {
   "cell_type": "code",
   "execution_count": null,
   "id": "c936bbd5-2ae2-4ed9-ae01-e57e0a2e88d1",
   "metadata": {},
   "outputs": [],
   "source": []
  }
 ],
 "metadata": {
  "kernelspec": {
   "display_name": "Python 3 (ipykernel)",
   "language": "python",
   "name": "python3"
  },
  "language_info": {
   "codemirror_mode": {
    "name": "ipython",
    "version": 3
   },
   "file_extension": ".py",
   "mimetype": "text/x-python",
   "name": "python",
   "nbconvert_exporter": "python",
   "pygments_lexer": "ipython3",
   "version": "3.12.3"
  }
 },
 "nbformat": 4,
 "nbformat_minor": 5
}
