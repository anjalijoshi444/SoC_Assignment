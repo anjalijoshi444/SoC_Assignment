{
 "cells": [
  {
   "cell_type": "code",
   "execution_count": 1,
   "id": "639e1e52-3315-495b-a434-c64c9ce4073c",
   "metadata": {},
   "outputs": [
    {
     "name": "stdout",
     "output_type": "stream",
     "text": [
      "Defaulting to user installation because normal site-packages is not writeable\n",
      "Collecting deeplake\n",
      "  Downloading deeplake-3.9.14.tar.gz (607 kB)\n",
      "     ---------------------------------------- 0.0/607.6 kB ? eta -:--:--\n",
      "     ------------------------------------- 607.6/607.6 kB 13.0 MB/s eta 0:00:00\n",
      "  Installing build dependencies: started\n",
      "  Installing build dependencies: finished with status 'done'\n",
      "  Getting requirements to build wheel: started\n",
      "  Getting requirements to build wheel: finished with status 'done'\n",
      "  Preparing metadata (pyproject.toml): started\n",
      "  Preparing metadata (pyproject.toml): finished with status 'done'\n",
      "Requirement already satisfied: numpy<2.0 in c:\\users\\anjal\\appdata\\roaming\\python\\python312\\site-packages (from deeplake) (1.26.4)\n",
      "Collecting pillow~=10.2.0 (from deeplake)\n",
      "  Downloading pillow-10.2.0-cp312-cp312-win_amd64.whl.metadata (9.9 kB)\n",
      "Collecting boto3 (from deeplake)\n",
      "  Downloading boto3-1.34.145-py3-none-any.whl.metadata (6.6 kB)\n",
      "Collecting click (from deeplake)\n",
      "  Using cached click-8.1.7-py3-none-any.whl.metadata (3.0 kB)\n",
      "Collecting pathos (from deeplake)\n",
      "  Downloading pathos-0.3.2-py3-none-any.whl.metadata (11 kB)\n",
      "Collecting humbug>=0.3.1 (from deeplake)\n",
      "  Downloading humbug-0.3.2-py3-none-any.whl.metadata (6.8 kB)\n",
      "Collecting tqdm (from deeplake)\n",
      "  Downloading tqdm-4.66.4-py3-none-any.whl.metadata (57 kB)\n",
      "     ---------------------------------------- 0.0/57.6 kB ? eta -:--:--\n",
      "     ---------------------------------------- 57.6/57.6 kB ? eta 0:00:00\n",
      "Collecting lz4 (from deeplake)\n",
      "  Downloading lz4-4.3.3-cp312-cp312-win_amd64.whl.metadata (3.8 kB)\n",
      "Collecting pyjwt (from deeplake)\n",
      "  Downloading PyJWT-2.8.0-py3-none-any.whl.metadata (4.2 kB)\n",
      "Collecting pydantic (from deeplake)\n",
      "  Downloading pydantic-2.8.2-py3-none-any.whl.metadata (125 kB)\n",
      "     ---------------------------------------- 0.0/125.2 kB ? eta -:--:--\n",
      "     -------------------------------------- 125.2/125.2 kB 7.2 MB/s eta 0:00:00\n",
      "Requirement already satisfied: requests in c:\\users\\anjal\\appdata\\roaming\\python\\python312\\site-packages (from humbug>=0.3.1->deeplake) (2.32.2)\n",
      "Collecting botocore<1.35.0,>=1.34.145 (from boto3->deeplake)\n",
      "  Downloading botocore-1.34.145-py3-none-any.whl.metadata (5.7 kB)\n",
      "Collecting jmespath<2.0.0,>=0.7.1 (from boto3->deeplake)\n",
      "  Downloading jmespath-1.0.1-py3-none-any.whl.metadata (7.6 kB)\n",
      "Collecting s3transfer<0.11.0,>=0.10.0 (from boto3->deeplake)\n",
      "  Downloading s3transfer-0.10.2-py3-none-any.whl.metadata (1.7 kB)\n",
      "Requirement already satisfied: colorama in c:\\users\\anjal\\appdata\\roaming\\python\\python312\\site-packages (from click->deeplake) (0.4.6)\n",
      "Collecting ppft>=1.7.6.8 (from pathos->deeplake)\n",
      "  Downloading ppft-1.7.6.8-py3-none-any.whl.metadata (12 kB)\n",
      "Collecting dill>=0.3.8 (from pathos->deeplake)\n",
      "  Downloading dill-0.3.8-py3-none-any.whl.metadata (10 kB)\n",
      "Collecting pox>=0.3.4 (from pathos->deeplake)\n",
      "  Downloading pox-0.3.4-py3-none-any.whl.metadata (8.0 kB)\n",
      "Collecting multiprocess>=0.70.16 (from pathos->deeplake)\n",
      "  Downloading multiprocess-0.70.16-py312-none-any.whl.metadata (7.2 kB)\n",
      "Collecting annotated-types>=0.4.0 (from pydantic->deeplake)\n",
      "  Downloading annotated_types-0.7.0-py3-none-any.whl.metadata (15 kB)\n",
      "Collecting pydantic-core==2.20.1 (from pydantic->deeplake)\n",
      "  Downloading pydantic_core-2.20.1-cp312-none-win_amd64.whl.metadata (6.7 kB)\n",
      "Requirement already satisfied: typing-extensions>=4.6.1 in c:\\users\\anjal\\appdata\\roaming\\python\\python312\\site-packages (from pydantic->deeplake) (4.12.2)\n",
      "Requirement already satisfied: python-dateutil<3.0.0,>=2.1 in c:\\users\\anjal\\appdata\\roaming\\python\\python312\\site-packages (from botocore<1.35.0,>=1.34.145->boto3->deeplake) (2.9.0.post0)\n",
      "Requirement already satisfied: urllib3!=2.2.0,<3,>=1.25.4 in c:\\users\\anjal\\appdata\\roaming\\python\\python312\\site-packages (from botocore<1.35.0,>=1.34.145->boto3->deeplake) (2.2.1)\n",
      "Requirement already satisfied: charset-normalizer<4,>=2 in c:\\users\\anjal\\appdata\\roaming\\python\\python312\\site-packages (from requests->humbug>=0.3.1->deeplake) (3.3.2)\n",
      "Requirement already satisfied: idna<4,>=2.5 in c:\\users\\anjal\\appdata\\roaming\\python\\python312\\site-packages (from requests->humbug>=0.3.1->deeplake) (3.7)\n",
      "Requirement already satisfied: certifi>=2017.4.17 in c:\\users\\anjal\\appdata\\roaming\\python\\python312\\site-packages (from requests->humbug>=0.3.1->deeplake) (2024.2.2)\n",
      "Requirement already satisfied: six>=1.5 in c:\\users\\anjal\\appdata\\roaming\\python\\python312\\site-packages (from python-dateutil<3.0.0,>=2.1->botocore<1.35.0,>=1.34.145->boto3->deeplake) (1.16.0)\n",
      "Downloading humbug-0.3.2-py3-none-any.whl (15 kB)\n",
      "Downloading pillow-10.2.0-cp312-cp312-win_amd64.whl (2.6 MB)\n",
      "   ---------------------------------------- 0.0/2.6 MB ? eta -:--:--\n",
      "   -------------------- ------------------- 1.3/2.6 MB 42.9 MB/s eta 0:00:01\n",
      "   -------------------- ------------------- 1.3/2.6 MB 42.9 MB/s eta 0:00:01\n",
      "   -------------------- ------------------- 1.3/2.6 MB 42.9 MB/s eta 0:00:01\n",
      "   -------------------- ------------------- 1.3/2.6 MB 42.9 MB/s eta 0:00:01\n",
      "   -------------------- ------------------- 1.3/2.6 MB 42.9 MB/s eta 0:00:01\n",
      "   -------------------- ------------------- 1.3/2.6 MB 42.9 MB/s eta 0:00:01\n",
      "   -------------------- ------------------- 1.3/2.6 MB 42.9 MB/s eta 0:00:01\n",
      "   ------------------------ --------------- 1.6/2.6 MB 4.2 MB/s eta 0:00:01\n",
      "   -------------------------------------- - 2.5/2.6 MB 5.8 MB/s eta 0:00:01\n",
      "   ---------------------------------------- 2.6/2.6 MB 5.6 MB/s eta 0:00:00\n",
      "Downloading boto3-1.34.145-py3-none-any.whl (139 kB)\n",
      "   ---------------------------------------- 0.0/139.2 kB ? eta -:--:--\n",
      "   ---------------------------------------- 139.2/139.2 kB 8.1 MB/s eta 0:00:00\n",
      "Using cached click-8.1.7-py3-none-any.whl (97 kB)\n",
      "Downloading lz4-4.3.3-cp312-cp312-win_amd64.whl (99 kB)\n",
      "   ---------------------------------------- 0.0/99.8 kB ? eta -:--:--\n",
      "   ---------------------------------------- 99.8/99.8 kB 5.6 MB/s eta 0:00:00\n",
      "Downloading pathos-0.3.2-py3-none-any.whl (82 kB)\n",
      "   ---------------------------------------- 0.0/82.1 kB ? eta -:--:--\n",
      "   ---------------------------------------- 82.1/82.1 kB 4.5 MB/s eta 0:00:00\n",
      "Downloading pydantic-2.8.2-py3-none-any.whl (423 kB)\n",
      "   ---------------------------------------- 0.0/423.9 kB ? eta -:--:--\n",
      "   ---------------------------------------- 423.9/423.9 kB ? eta 0:00:00\n",
      "Downloading pydantic_core-2.20.1-cp312-none-win_amd64.whl (1.9 MB)\n",
      "   ---------------------------------------- 0.0/1.9 MB ? eta -:--:--\n",
      "   ---------------- ----------------------- 0.8/1.9 MB 51.2 MB/s eta 0:00:01\n",
      "   ---------------- ----------------------- 0.8/1.9 MB 51.2 MB/s eta 0:00:01\n",
      "   ---------------- ----------------------- 0.8/1.9 MB 51.2 MB/s eta 0:00:01\n",
      "   ---------------- ----------------------- 0.8/1.9 MB 51.2 MB/s eta 0:00:01\n",
      "   ---------------- ----------------------- 0.8/1.9 MB 51.2 MB/s eta 0:00:01\n",
      "   ----------------------- ---------------- 1.1/1.9 MB 4.1 MB/s eta 0:00:01\n",
      "   --------------------------------- ------ 1.6/1.9 MB 5.0 MB/s eta 0:00:01\n",
      "   ---------------------------------------- 1.9/1.9 MB 5.3 MB/s eta 0:00:00\n",
      "Downloading PyJWT-2.8.0-py3-none-any.whl (22 kB)\n",
      "Downloading tqdm-4.66.4-py3-none-any.whl (78 kB)\n",
      "   ---------------------------------------- 0.0/78.3 kB ? eta -:--:--\n",
      "   ---------------------------------------- 78.3/78.3 kB ? eta 0:00:00\n",
      "Downloading annotated_types-0.7.0-py3-none-any.whl (13 kB)\n",
      "Downloading botocore-1.34.145-py3-none-any.whl (12.4 MB)\n",
      "   ---------------------------------------- 0.0/12.4 MB ? eta -:--:--\n",
      "   --- ------------------------------------ 1.2/12.4 MB 37.0 MB/s eta 0:00:01\n",
      "   ----- ---------------------------------- 1.7/12.4 MB 17.8 MB/s eta 0:00:01\n",
      "   ------ --------------------------------- 2.0/12.4 MB 15.6 MB/s eta 0:00:01\n",
      "   ------- -------------------------------- 2.3/12.4 MB 12.0 MB/s eta 0:00:01\n",
      "   -------- ------------------------------- 2.6/12.4 MB 11.8 MB/s eta 0:00:01\n",
      "   -------- ------------------------------- 2.8/12.4 MB 10.4 MB/s eta 0:00:01\n",
      "   --------- ------------------------------ 2.9/12.4 MB 8.7 MB/s eta 0:00:02\n",
      "   --------- ------------------------------ 3.0/12.4 MB 8.0 MB/s eta 0:00:02\n",
      "   ---------- ----------------------------- 3.2/12.4 MB 7.5 MB/s eta 0:00:02\n",
      "   ---------- ----------------------------- 3.3/12.4 MB 7.1 MB/s eta 0:00:02\n",
      "   ----------- ---------------------------- 3.5/12.4 MB 6.8 MB/s eta 0:00:02\n",
      "   ----------- ---------------------------- 3.7/12.4 MB 6.6 MB/s eta 0:00:02\n",
      "   ------------ --------------------------- 3.9/12.4 MB 6.4 MB/s eta 0:00:02\n",
      "   ------------- -------------------------- 4.2/12.4 MB 6.5 MB/s eta 0:00:02\n",
      "   -------------- ------------------------- 4.4/12.4 MB 6.4 MB/s eta 0:00:02\n",
      "   --------------- ------------------------ 4.7/12.4 MB 6.3 MB/s eta 0:00:02\n",
      "   ---------------- ----------------------- 5.0/12.4 MB 6.4 MB/s eta 0:00:02\n",
      "   ---------------- ----------------------- 5.3/12.4 MB 6.4 MB/s eta 0:00:02\n",
      "   ------------------ --------------------- 5.6/12.4 MB 6.3 MB/s eta 0:00:02\n",
      "   ------------------- -------------------- 6.0/12.4 MB 6.4 MB/s eta 0:00:02\n",
      "   -------------------- ------------------- 6.3/12.4 MB 6.4 MB/s eta 0:00:01\n",
      "   --------------------- ------------------ 6.7/12.4 MB 6.5 MB/s eta 0:00:01\n",
      "   ----------------------- ---------------- 7.2/12.4 MB 6.6 MB/s eta 0:00:01\n",
      "   ------------------------ --------------- 7.5/12.4 MB 6.8 MB/s eta 0:00:01\n",
      "   ------------------------- -------------- 7.9/12.4 MB 6.8 MB/s eta 0:00:01\n",
      "   -------------------------- ------------- 8.3/12.4 MB 6.9 MB/s eta 0:00:01\n",
      "   ---------------------------- ----------- 8.8/12.4 MB 7.0 MB/s eta 0:00:01\n",
      "   ---------------------------- ----------- 9.0/12.4 MB 6.9 MB/s eta 0:00:01\n",
      "   ----------------------------- ---------- 9.2/12.4 MB 6.9 MB/s eta 0:00:01\n",
      "   ------------------------------ --------- 9.5/12.4 MB 6.8 MB/s eta 0:00:01\n",
      "   ------------------------------- -------- 9.6/12.4 MB 6.7 MB/s eta 0:00:01\n",
      "   ------------------------------- -------- 9.8/12.4 MB 6.6 MB/s eta 0:00:01\n",
      "   ------------------------------- -------- 9.9/12.4 MB 6.5 MB/s eta 0:00:01\n",
      "   -------------------------------- ------- 10.1/12.4 MB 6.4 MB/s eta 0:00:01\n",
      "   -------------------------------- ------- 10.2/12.4 MB 6.3 MB/s eta 0:00:01\n",
      "   --------------------------------- ------ 10.4/12.4 MB 6.1 MB/s eta 0:00:01\n",
      "   ---------------------------------- ----- 10.7/12.4 MB 6.0 MB/s eta 0:00:01\n",
      "   ----------------------------------- ---- 10.9/12.4 MB 5.8 MB/s eta 0:00:01\n",
      "   ----------------------------------- ---- 11.2/12.4 MB 5.7 MB/s eta 0:00:01\n",
      "   ------------------------------------ --- 11.4/12.4 MB 5.6 MB/s eta 0:00:01\n",
      "   ------------------------------------- -- 11.7/12.4 MB 5.5 MB/s eta 0:00:01\n",
      "   -------------------------------------- - 12.0/12.4 MB 5.5 MB/s eta 0:00:01\n",
      "   ---------------------------------------  12.3/12.4 MB 5.6 MB/s eta 0:00:01\n",
      "   ---------------------------------------  12.4/12.4 MB 5.6 MB/s eta 0:00:01\n",
      "   ---------------------------------------- 12.4/12.4 MB 5.4 MB/s eta 0:00:00\n",
      "Downloading dill-0.3.8-py3-none-any.whl (116 kB)\n",
      "   ---------------------------------------- 0.0/116.3 kB ? eta -:--:--\n",
      "   ---------------------------------------- 116.3/116.3 kB 3.4 MB/s eta 0:00:00\n",
      "Downloading jmespath-1.0.1-py3-none-any.whl (20 kB)\n",
      "Downloading multiprocess-0.70.16-py312-none-any.whl (146 kB)\n",
      "   ---------------------------------------- 0.0/146.7 kB ? eta -:--:--\n",
      "   ---------------------------------------- 146.7/146.7 kB 4.3 MB/s eta 0:00:00\n",
      "Downloading pox-0.3.4-py3-none-any.whl (29 kB)\n",
      "Downloading ppft-1.7.6.8-py3-none-any.whl (56 kB)\n",
      "   ---------------------------------------- 0.0/56.8 kB ? eta -:--:--\n",
      "   ---------------------------------------- 56.8/56.8 kB ? eta 0:00:00\n",
      "Downloading s3transfer-0.10.2-py3-none-any.whl (82 kB)\n",
      "   ---------------------------------------- 0.0/82.7 kB ? eta -:--:--\n",
      "   ---------------------------------------- 82.7/82.7 kB 4.5 MB/s eta 0:00:00\n",
      "Building wheels for collected packages: deeplake\n",
      "  Building wheel for deeplake (pyproject.toml): started\n",
      "  Building wheel for deeplake (pyproject.toml): finished with status 'done'\n",
      "  Created wheel for deeplake: filename=deeplake-3.9.14-py3-none-any.whl size=730278 sha256=b30e97b4dd31a54a09fb9500529cd21712c9fd52b5cb40b6c374fece4217b791\n",
      "  Stored in directory: c:\\users\\anjal\\appdata\\local\\pip\\cache\\wheels\\89\\63\\5d\\a51353d749945a5c061a40bfc8cc22ed8024c993691aabe0d0\n",
      "Successfully built deeplake\n",
      "Installing collected packages: tqdm, pyjwt, pydantic-core, ppft, pox, pillow, lz4, jmespath, dill, click, annotated-types, pydantic, multiprocess, humbug, botocore, s3transfer, pathos, boto3, deeplake\n",
      "  Attempting uninstall: pillow\n",
      "    Found existing installation: pillow 10.3.0\n",
      "    Uninstalling pillow-10.3.0:\n",
      "      Successfully uninstalled pillow-10.3.0\n",
      "Successfully installed annotated-types-0.7.0 boto3-1.34.145 botocore-1.34.145 click-8.1.7 deeplake-3.9.14 dill-0.3.8 humbug-0.3.2 jmespath-1.0.1 lz4-4.3.3 multiprocess-0.70.16 pathos-0.3.2 pillow-10.2.0 pox-0.3.4 ppft-1.7.6.8 pydantic-2.8.2 pydantic-core-2.20.1 pyjwt-2.8.0 s3transfer-0.10.2 tqdm-4.66.4\n"
     ]
    }
   ],
   "source": [
    "!pip install deeplake"
   ]
  },
  {
   "cell_type": "code",
   "execution_count": 5,
   "id": "dfa9d742-fa05-4323-b069-6c13f449625f",
   "metadata": {},
   "outputs": [
    {
     "name": "stdout",
     "output_type": "stream",
     "text": [
      "Defaulting to user installation because normal site-packages is not writeable\n",
      "Requirement already satisfied: deeplake in c:\\users\\anjal\\appdata\\roaming\\python\\python312\\site-packages (3.9.14)\n",
      "Collecting deeplake\n",
      "  Downloading deeplake-3.9.15.tar.gz (607 kB)\n",
      "     ---------------------------------------- 0.0/607.9 kB ? eta -:--:--\n",
      "     ------------------------------------  604.2/607.9 kB 18.6 MB/s eta 0:00:01\n",
      "     ------------------------------------- 607.9/607.9 kB 12.7 MB/s eta 0:00:00\n",
      "  Installing build dependencies: started\n",
      "  Installing build dependencies: finished with status 'done'\n",
      "  Getting requirements to build wheel: started\n",
      "  Getting requirements to build wheel: finished with status 'done'\n",
      "  Preparing metadata (pyproject.toml): started\n",
      "  Preparing metadata (pyproject.toml): finished with status 'done'\n",
      "Requirement already satisfied: numpy<2.0 in c:\\users\\anjal\\appdata\\roaming\\python\\python312\\site-packages (from deeplake) (1.26.4)\n",
      "Requirement already satisfied: pillow~=10.2.0 in c:\\users\\anjal\\appdata\\roaming\\python\\python312\\site-packages (from deeplake) (10.2.0)\n",
      "Requirement already satisfied: boto3 in c:\\users\\anjal\\appdata\\roaming\\python\\python312\\site-packages (from deeplake) (1.34.145)\n",
      "Requirement already satisfied: click in c:\\users\\anjal\\appdata\\roaming\\python\\python312\\site-packages (from deeplake) (8.1.7)\n",
      "Requirement already satisfied: pathos in c:\\users\\anjal\\appdata\\roaming\\python\\python312\\site-packages (from deeplake) (0.3.2)\n",
      "Requirement already satisfied: humbug>=0.3.1 in c:\\users\\anjal\\appdata\\roaming\\python\\python312\\site-packages (from deeplake) (0.3.2)\n",
      "Requirement already satisfied: tqdm in c:\\users\\anjal\\appdata\\roaming\\python\\python312\\site-packages (from deeplake) (4.66.4)\n",
      "Requirement already satisfied: lz4 in c:\\users\\anjal\\appdata\\roaming\\python\\python312\\site-packages (from deeplake) (4.3.3)\n",
      "Requirement already satisfied: pyjwt in c:\\users\\anjal\\appdata\\roaming\\python\\python312\\site-packages (from deeplake) (2.8.0)\n",
      "Requirement already satisfied: pydantic in c:\\users\\anjal\\appdata\\roaming\\python\\python312\\site-packages (from deeplake) (2.8.2)\n",
      "Requirement already satisfied: requests in c:\\users\\anjal\\appdata\\roaming\\python\\python312\\site-packages (from humbug>=0.3.1->deeplake) (2.32.2)\n",
      "Requirement already satisfied: botocore<1.35.0,>=1.34.145 in c:\\users\\anjal\\appdata\\roaming\\python\\python312\\site-packages (from boto3->deeplake) (1.34.145)\n",
      "Requirement already satisfied: jmespath<2.0.0,>=0.7.1 in c:\\users\\anjal\\appdata\\roaming\\python\\python312\\site-packages (from boto3->deeplake) (1.0.1)\n",
      "Requirement already satisfied: s3transfer<0.11.0,>=0.10.0 in c:\\users\\anjal\\appdata\\roaming\\python\\python312\\site-packages (from boto3->deeplake) (0.10.2)\n",
      "Requirement already satisfied: colorama in c:\\users\\anjal\\appdata\\roaming\\python\\python312\\site-packages (from click->deeplake) (0.4.6)\n",
      "Requirement already satisfied: ppft>=1.7.6.8 in c:\\users\\anjal\\appdata\\roaming\\python\\python312\\site-packages (from pathos->deeplake) (1.7.6.8)\n",
      "Requirement already satisfied: dill>=0.3.8 in c:\\users\\anjal\\appdata\\roaming\\python\\python312\\site-packages (from pathos->deeplake) (0.3.8)\n",
      "Requirement already satisfied: pox>=0.3.4 in c:\\users\\anjal\\appdata\\roaming\\python\\python312\\site-packages (from pathos->deeplake) (0.3.4)\n",
      "Requirement already satisfied: multiprocess>=0.70.16 in c:\\users\\anjal\\appdata\\roaming\\python\\python312\\site-packages (from pathos->deeplake) (0.70.16)\n",
      "Requirement already satisfied: annotated-types>=0.4.0 in c:\\users\\anjal\\appdata\\roaming\\python\\python312\\site-packages (from pydantic->deeplake) (0.7.0)\n",
      "Requirement already satisfied: pydantic-core==2.20.1 in c:\\users\\anjal\\appdata\\roaming\\python\\python312\\site-packages (from pydantic->deeplake) (2.20.1)\n",
      "Requirement already satisfied: typing-extensions>=4.6.1 in c:\\users\\anjal\\appdata\\roaming\\python\\python312\\site-packages (from pydantic->deeplake) (4.12.2)\n",
      "Requirement already satisfied: python-dateutil<3.0.0,>=2.1 in c:\\users\\anjal\\appdata\\roaming\\python\\python312\\site-packages (from botocore<1.35.0,>=1.34.145->boto3->deeplake) (2.9.0.post0)\n",
      "Requirement already satisfied: urllib3!=2.2.0,<3,>=1.25.4 in c:\\users\\anjal\\appdata\\roaming\\python\\python312\\site-packages (from botocore<1.35.0,>=1.34.145->boto3->deeplake) (2.2.1)\n",
      "Requirement already satisfied: charset-normalizer<4,>=2 in c:\\users\\anjal\\appdata\\roaming\\python\\python312\\site-packages (from requests->humbug>=0.3.1->deeplake) (3.3.2)\n",
      "Requirement already satisfied: idna<4,>=2.5 in c:\\users\\anjal\\appdata\\roaming\\python\\python312\\site-packages (from requests->humbug>=0.3.1->deeplake) (3.7)\n",
      "Requirement already satisfied: certifi>=2017.4.17 in c:\\users\\anjal\\appdata\\roaming\\python\\python312\\site-packages (from requests->humbug>=0.3.1->deeplake) (2024.2.2)\n",
      "Requirement already satisfied: six>=1.5 in c:\\users\\anjal\\appdata\\roaming\\python\\python312\\site-packages (from python-dateutil<3.0.0,>=2.1->botocore<1.35.0,>=1.34.145->boto3->deeplake) (1.16.0)\n",
      "Building wheels for collected packages: deeplake\n",
      "  Building wheel for deeplake (pyproject.toml): started\n",
      "  Building wheel for deeplake (pyproject.toml): finished with status 'done'\n",
      "  Created wheel for deeplake: filename=deeplake-3.9.15-py3-none-any.whl size=730461 sha256=e7d71fcb7f694aef5e429c3f9bc565dfc1f10724017061d2aa8e733dc84f776d\n",
      "  Stored in directory: c:\\users\\anjal\\appdata\\local\\pip\\cache\\wheels\\ba\\84\\3a\\d2f5ebe441d34ab8c165c85331110900162f47c2b4388ad71c\n",
      "Successfully built deeplake\n",
      "Installing collected packages: deeplake\n",
      "  Attempting uninstall: deeplake\n",
      "    Found existing installation: deeplake 3.9.14\n",
      "    Uninstalling deeplake-3.9.14:\n",
      "      Successfully uninstalled deeplake-3.9.14\n",
      "Successfully installed deeplake-3.9.15\n"
     ]
    }
   ],
   "source": [
    "!pip install -U deeplake"
   ]
  },
  {
   "cell_type": "code",
   "execution_count": 6,
   "id": "de289034-14ae-4cec-9fb2-09eba20fbccc",
   "metadata": {},
   "outputs": [],
   "source": [
    "import deeplake\n",
    "import tensorflow as tf \n",
    "import numpy as np\n",
    "import pandas as pd\n",
    "from tensorflow.keras.models import Sequential\n",
    "from tensorflow.keras.layers import MaxPooling2D, Dense, Activation, Dropout, Conv2D, Flatten\n",
    "from tensorflow.data import Dataset"
   ]
  },
  {
   "cell_type": "code",
   "execution_count": 2,
   "id": "77a9ab7b-8c85-4f2f-bcb5-a25d01eabc38",
   "metadata": {},
   "outputs": [
    {
     "name": "stderr",
     "output_type": "stream",
     "text": [
      "-"
     ]
    },
    {
     "name": "stdout",
     "output_type": "stream",
     "text": [
      "Opening dataset in read-only mode as you don't have write permissions.\n"
     ]
    },
    {
     "name": "stderr",
     "output_type": "stream",
     "text": [
      "/"
     ]
    },
    {
     "name": "stdout",
     "output_type": "stream",
     "text": [
      "This dataset can be visualized in Jupyter Notebook by ds.visualize() or at https://app.activeloop.ai/activeloop/fer2013-train\n",
      "\n"
     ]
    },
    {
     "name": "stderr",
     "output_type": "stream",
     "text": [
      "-"
     ]
    },
    {
     "name": "stdout",
     "output_type": "stream",
     "text": [
      "hub://activeloop/fer2013-train loaded successfully.\n",
      "\n"
     ]
    },
    {
     "name": "stderr",
     "output_type": "stream",
     "text": [
      " "
     ]
    }
   ],
   "source": [
    "train = deeplake.load('hub://activeloop/fer2013-train')"
   ]
  },
  {
   "cell_type": "code",
   "execution_count": 3,
   "id": "3e7ee080-2c63-435a-9e89-31682dc86cdb",
   "metadata": {},
   "outputs": [
    {
     "name": "stderr",
     "output_type": "stream",
     "text": [
      "|"
     ]
    },
    {
     "name": "stdout",
     "output_type": "stream",
     "text": [
      "Opening dataset in read-only mode as you don't have write permissions.\n"
     ]
    },
    {
     "name": "stderr",
     "output_type": "stream",
     "text": [
      "/"
     ]
    },
    {
     "name": "stdout",
     "output_type": "stream",
     "text": [
      "This dataset can be visualized in Jupyter Notebook by ds.visualize() or at https://app.activeloop.ai/activeloop/fer2013-public-test\n",
      "\n"
     ]
    },
    {
     "name": "stderr",
     "output_type": "stream",
     "text": [
      "\\"
     ]
    },
    {
     "name": "stdout",
     "output_type": "stream",
     "text": [
      "hub://activeloop/fer2013-public-test loaded successfully.\n",
      "\n"
     ]
    },
    {
     "name": "stderr",
     "output_type": "stream",
     "text": [
      " "
     ]
    }
   ],
   "source": [
    "test = deeplake.load('hub://activeloop/fer2013-public-test')"
   ]
  },
  {
   "cell_type": "code",
   "execution_count": 4,
   "id": "867820ad-1e05-4c4d-8fd5-88546e12267f",
   "metadata": {},
   "outputs": [
    {
     "name": "stderr",
     "output_type": "stream",
     "text": [
      "/"
     ]
    },
    {
     "name": "stdout",
     "output_type": "stream",
     "text": [
      "Opening dataset in read-only mode as you don't have write permissions.\n"
     ]
    },
    {
     "name": "stderr",
     "output_type": "stream",
     "text": [
      "/"
     ]
    },
    {
     "name": "stdout",
     "output_type": "stream",
     "text": [
      "This dataset can be visualized in Jupyter Notebook by ds.visualize() or at https://app.activeloop.ai/activeloop/fer2013-private-test\n",
      "\n"
     ]
    },
    {
     "name": "stderr",
     "output_type": "stream",
     "text": [
      "/"
     ]
    },
    {
     "name": "stdout",
     "output_type": "stream",
     "text": [
      "hub://activeloop/fer2013-private-test loaded successfully.\n",
      "\n"
     ]
    },
    {
     "name": "stderr",
     "output_type": "stream",
     "text": [
      " "
     ]
    }
   ],
   "source": [
    "validation = deeplake.load('hub://activeloop/fer2013-private-test')"
   ]
  },
  {
   "cell_type": "code",
   "execution_count": 7,
   "id": "56cd681e-15d2-4d50-a380-4217f5810186",
   "metadata": {},
   "outputs": [],
   "source": [
    "def preprocess(images, labels):\n",
    "    images = tf.cast(images, tf.float32) / 255.0  \n",
    "    images = tf.reshape(images, [48, 48, 1])  \n",
    "    labels= tf.one_hot(labels, 7)\n",
    "    return images, labels"
   ]
  },
  {
   "cell_type": "code",
   "execution_count": 8,
   "id": "18a39dbe-cada-4a1d-926d-9ba60dc6ef44",
   "metadata": {},
   "outputs": [
    {
     "name": "stdout",
     "output_type": "stream",
     "text": [
      "{'images': Tensor(key='images'), 'labels': Tensor(key='labels')}\n",
      "{'images': Tensor(key='images'), 'labels': Tensor(key='labels')}\n",
      "{'images': Tensor(key='images'), 'labels': Tensor(key='labels')}\n"
     ]
    }
   ],
   "source": [
    "print(train.tensors)\n",
    "print(validation.tensors)\n",
    "print(test.tensors)"
   ]
  },
  {
   "cell_type": "code",
   "execution_count": 9,
   "id": "35725a58-1fea-4428-b79b-fe6e31aec7a7",
   "metadata": {},
   "outputs": [],
   "source": [
    "def deeplake_to_tfds(deeplake_dataset):\n",
    "    def generator():\n",
    "        for sample in deeplake_dataset.pytorch():\n",
    "            image = sample['images'].numpy().squeeze()  \n",
    "            label = sample['labels'].numpy()\n",
    "            if image.ndim == 2: \n",
    "                image = image.reshape((48, 48))  \n",
    "            if label.ndim > 0:\n",
    "                label = label.item()  \n",
    "            yield image, label\n",
    "    return tf.data.Dataset.from_generator(generator, output_signature=(\n",
    "        tf.TensorSpec(shape=(48, 48), dtype=tf.uint8),\n",
    "        tf.TensorSpec(shape=(), dtype=tf.int64)\n",
    "    ))"
   ]
  },
  {
   "cell_type": "code",
   "execution_count": 10,
   "id": "50b1ee6a-043b-4bd0-943c-140ee51507df",
   "metadata": {},
   "outputs": [],
   "source": [
    "train_tfds = deeplake_to_tfds(train)\n",
    "val_tfds = deeplake_to_tfds(validation)\n",
    "test_tfds = deeplake_to_tfds(test)"
   ]
  },
  {
   "cell_type": "code",
   "execution_count": 11,
   "id": "883d9bc0-3f0e-4a83-b11a-5e73d6971c50",
   "metadata": {},
   "outputs": [],
   "source": [
    "train_tfds = train_tfds.map(preprocess, num_parallel_calls=tf.data.experimental.AUTOTUNE)\n",
    "val_tfds = val_tfds.map(preprocess, num_parallel_calls=tf.data.experimental.AUTOTUNE)\n",
    "test_tfds = test_tfds.map(preprocess, num_parallel_calls=tf.data.experimental.AUTOTUNE)"
   ]
  },
  {
   "cell_type": "code",
   "execution_count": 12,
   "id": "1039c32b-b4da-4f6e-813b-027d6a639b08",
   "metadata": {},
   "outputs": [],
   "source": [
    "batch_size = 64\n",
    "train_tfds = train_tfds.shuffle(buffer_size=10000).batch(batch_size).prefetch(tf.data.experimental.AUTOTUNE)\n",
    "val_tfds = val_tfds.batch(batch_size).prefetch(tf.data.experimental.AUTOTUNE)\n",
    "test_tfds = test_tfds.batch(batch_size).prefetch(tf.data.experimental.AUTOTUNE)"
   ]
  },
  {
   "cell_type": "code",
   "execution_count": 16,
   "id": "67ec433c-3254-4e79-bfc9-b877dcdd9bdf",
   "metadata": {},
   "outputs": [],
   "source": [
    "model = Sequential([\n",
    "    Conv2D(32, (3, 3), activation='relu', input_shape=(48, 48, 1)),\n",
    "    MaxPooling2D(pool_size=(2, 2)),\n",
    "    Conv2D(64, (3, 3), activation='relu'),\n",
    "    MaxPooling2D(pool_size=(2, 2)),\n",
    "    Conv2D(128, (3, 3), activation='relu'),\n",
    "    MaxPooling2D(pool_size=(2, 2)),\n",
    "    Flatten(),\n",
    "    Dense(128, activation='relu'),\n",
    "    Dense(7, activation='softmax')\n",
    "])"
   ]
  },
  {
   "cell_type": "code",
   "execution_count": 17,
   "id": "9ff9eaf6-3b40-4cc1-b6e3-37464bb1e3d7",
   "metadata": {},
   "outputs": [],
   "source": [
    "model.compile(optimizer='adam',\n",
    "              loss='categorical_crossentropy',\n",
    "              metrics=['accuracy'])"
   ]
  },
  {
   "cell_type": "code",
   "execution_count": 18,
   "id": "8432c936-7521-4397-bf96-949730614dca",
   "metadata": {},
   "outputs": [
    {
     "name": "stdout",
     "output_type": "stream",
     "text": [
      "Epoch 1/10\n",
      "    449/Unknown \u001b[1m181s\u001b[0m 229ms/step - accuracy: 0.2849 - loss: 1.7586"
     ]
    },
    {
     "name": "stderr",
     "output_type": "stream",
     "text": [
      "C:\\Program Files\\Python312\\Lib\\contextlib.py:158: UserWarning: Your input ran out of data; interrupting training. Make sure that your dataset or generator can generate at least `steps_per_epoch * epochs` batches. You may need to use the `.repeat()` function when building your dataset.\n",
      "  self.gen.throw(value)\n"
     ]
    },
    {
     "name": "stdout",
     "output_type": "stream",
     "text": [
      "\u001b[1m449/449\u001b[0m \u001b[32m━━━━━━━━━━━━━━━━━━━━\u001b[0m\u001b[37m\u001b[0m \u001b[1m215s\u001b[0m 305ms/step - accuracy: 0.2850 - loss: 1.7583 - val_accuracy: 0.4218 - val_loss: 1.5021\n",
      "Epoch 2/10\n",
      "\u001b[1m449/449\u001b[0m \u001b[32m━━━━━━━━━━━━━━━━━━━━\u001b[0m\u001b[37m\u001b[0m \u001b[1m171s\u001b[0m 255ms/step - accuracy: 0.4517 - loss: 1.4336 - val_accuracy: 0.4868 - val_loss: 1.3342\n",
      "Epoch 3/10\n",
      "\u001b[1m449/449\u001b[0m \u001b[32m━━━━━━━━━━━━━━━━━━━━\u001b[0m\u001b[37m\u001b[0m \u001b[1m179s\u001b[0m 262ms/step - accuracy: 0.5009 - loss: 1.3088 - val_accuracy: 0.5096 - val_loss: 1.2763\n",
      "Epoch 4/10\n",
      "\u001b[1m449/449\u001b[0m \u001b[32m━━━━━━━━━━━━━━━━━━━━\u001b[0m\u001b[37m\u001b[0m \u001b[1m184s\u001b[0m 273ms/step - accuracy: 0.5447 - loss: 1.2145 - val_accuracy: 0.5255 - val_loss: 1.2306\n",
      "Epoch 5/10\n",
      "\u001b[1m449/449\u001b[0m \u001b[32m━━━━━━━━━━━━━━━━━━━━\u001b[0m\u001b[37m\u001b[0m \u001b[1m189s\u001b[0m 280ms/step - accuracy: 0.5661 - loss: 1.1480 - val_accuracy: 0.5436 - val_loss: 1.1828\n",
      "Epoch 6/10\n",
      "\u001b[1m449/449\u001b[0m \u001b[32m━━━━━━━━━━━━━━━━━━━━\u001b[0m\u001b[37m\u001b[0m \u001b[1m179s\u001b[0m 270ms/step - accuracy: 0.5962 - loss: 1.0802 - val_accuracy: 0.5517 - val_loss: 1.1611\n",
      "Epoch 7/10\n",
      "\u001b[1m449/449\u001b[0m \u001b[32m━━━━━━━━━━━━━━━━━━━━\u001b[0m\u001b[37m\u001b[0m \u001b[1m198s\u001b[0m 278ms/step - accuracy: 0.6183 - loss: 1.0174 - val_accuracy: 0.5600 - val_loss: 1.1600\n",
      "Epoch 8/10\n",
      "\u001b[1m449/449\u001b[0m \u001b[32m━━━━━━━━━━━━━━━━━━━━\u001b[0m\u001b[37m\u001b[0m \u001b[1m261s\u001b[0m 340ms/step - accuracy: 0.6434 - loss: 0.9544 - val_accuracy: 0.5626 - val_loss: 1.1679\n",
      "Epoch 9/10\n",
      "\u001b[1m449/449\u001b[0m \u001b[32m━━━━━━━━━━━━━━━━━━━━\u001b[0m\u001b[37m\u001b[0m \u001b[1m620s\u001b[0m 1s/step - accuracy: 0.6707 - loss: 0.8896 - val_accuracy: 0.5623 - val_loss: 1.1921\n",
      "Epoch 10/10\n",
      "\u001b[1m449/449\u001b[0m \u001b[32m━━━━━━━━━━━━━━━━━━━━\u001b[0m\u001b[37m\u001b[0m \u001b[1m190s\u001b[0m 262ms/step - accuracy: 0.6852 - loss: 0.8434 - val_accuracy: 0.5645 - val_loss: 1.2318\n"
     ]
    },
    {
     "data": {
      "text/plain": [
       "<keras.src.callbacks.history.History at 0x285a1b3aff0>"
      ]
     },
     "execution_count": 18,
     "metadata": {},
     "output_type": "execute_result"
    }
   ],
   "source": [
    " model.fit(train_tfds, epochs=10, batch_size=64, validation_data=val_tfds)"
   ]
  },
  {
   "cell_type": "code",
   "execution_count": 19,
   "id": "d233513d-2bf8-468c-ab72-18570e019710",
   "metadata": {},
   "outputs": [
    {
     "name": "stdout",
     "output_type": "stream",
     "text": [
      "\u001b[1m57/57\u001b[0m \u001b[32m━━━━━━━━━━━━━━━━━━━━\u001b[0m\u001b[37m\u001b[0m \u001b[1m34s\u001b[0m 167ms/step - accuracy: 0.5759 - loss: 1.2463\n",
      "Test accuracy: 0.5592086911201477\n"
     ]
    }
   ],
   "source": [
    "test_loss, test_acc = model.evaluate(test_tfds)\n",
    "print(f'Test accuracy: {test_acc}')"
   ]
  }
 ],
 "metadata": {
  "kernelspec": {
   "display_name": "Python 3 (ipykernel)",
   "language": "python",
   "name": "python3"
  },
  "language_info": {
   "codemirror_mode": {
    "name": "ipython",
    "version": 3
   },
   "file_extension": ".py",
   "mimetype": "text/x-python",
   "name": "python",
   "nbconvert_exporter": "python",
   "pygments_lexer": "ipython3",
   "version": "3.12.3"
  }
 },
 "nbformat": 4,
 "nbformat_minor": 5
}
